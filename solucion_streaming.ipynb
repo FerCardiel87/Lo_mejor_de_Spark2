{
 "cells": [
  {
   "cell_type": "code",
   "execution_count": 1,
   "metadata": {},
   "outputs": [],
   "source": [
    "import findspark\n",
    "findspark.init()"
   ]
  },
  {
   "cell_type": "code",
   "execution_count": 2,
   "metadata": {},
   "outputs": [
    {
     "ename": "NameError",
     "evalue": "name 'spark' is not defined",
     "output_type": "error",
     "traceback": [
      "\u001b[1;31m---------------------------------------------------------------------------\u001b[0m",
      "\u001b[1;31mNameError\u001b[0m                                 Traceback (most recent call last)",
      "Cell \u001b[1;32mIn[2], line 4\u001b[0m\n\u001b[0;32m      1\u001b[0m \u001b[39mfrom\u001b[39;00m \u001b[39mpyspark\u001b[39;00m\u001b[39m.\u001b[39;00m\u001b[39msql\u001b[39;00m\u001b[39m.\u001b[39;00m\u001b[39mfunctions\u001b[39;00m \u001b[39mimport\u001b[39;00m \u001b[39m*\u001b[39m\n\u001b[0;32m      3\u001b[0m streamingInputDF \u001b[39m=\u001b[39m (\n\u001b[1;32m----> 4\u001b[0m     spark\n\u001b[0;32m      5\u001b[0m         \u001b[39m.\u001b[39mreadStream\n\u001b[0;32m      6\u001b[0m         \u001b[39m.\u001b[39mschema(jsonSchema)\n\u001b[0;32m      7\u001b[0m         \u001b[39m.\u001b[39moption(\u001b[39m\"\u001b[39m\u001b[39mmaxFilesPerTrigger\u001b[39m\u001b[39m\"\u001b[39m,\u001b[39m1\u001b[39m)\n\u001b[0;32m      8\u001b[0m         \u001b[39m.\u001b[39mjson(inputPath)\n\u001b[0;32m      9\u001b[0m )\n",
      "\u001b[1;31mNameError\u001b[0m: name 'spark' is not defined"
     ]
    }
   ],
   "source": [
    "from pyspark.sql.functions import *\n",
    "\n",
    "streamingInputDF = (\n",
    "    spark\n",
    "        .readStream\n",
    "        .schema(jsonSchema)\n",
    "        .option(\"maxFilesPerTrigger\",1)\n",
    "        .json(inputPath)\n",
    ")"
   ]
  },
  {
   "cell_type": "code",
   "execution_count": null,
   "metadata": {},
   "outputs": [],
   "source": []
  }
 ],
 "metadata": {
  "kernelspec": {
   "display_name": "Python 3",
   "language": "python",
   "name": "python3"
  },
  "language_info": {
   "codemirror_mode": {
    "name": "ipython",
    "version": 3
   },
   "file_extension": ".py",
   "mimetype": "text/x-python",
   "name": "python",
   "nbconvert_exporter": "python",
   "pygments_lexer": "ipython3",
   "version": "3.10.5"
  },
  "orig_nbformat": 4,
  "vscode": {
   "interpreter": {
    "hash": "c9469ccdb9909bf8ae53e53989a83866ae2608bf3b53aa81908df53e67f16189"
   }
  }
 },
 "nbformat": 4,
 "nbformat_minor": 2
}
